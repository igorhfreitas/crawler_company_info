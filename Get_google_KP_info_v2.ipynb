{
 "cells": [
  {
   "cell_type": "markdown",
   "metadata": {},
   "source": [
    "## Get google KP\n",
    "\n",
    "A página da wikipedia não traz informações de todas as empresas que procuramos, algumas simplemente não tem página lá. Dessa forma uma maneira mais provável de extrair as informações é via knowledge painel da própria pesquisa do Google.\n",
    "\n",
    "O maior problema aqui é o uso em ambiente produtivo, pois em um CRM de grandes empresas é provável que haja muitos clientes cadastrados e mesmo utilizando um multi processing, é necessário seguir as boas práticas de crawlers e utilizar recursos mais avançados para driblar o bloqueio feito pelo google em caso de execuções de pesquisa multiplas."
   ]
  },
  {
   "cell_type": "code",
   "execution_count": 2,
   "metadata": {},
   "outputs": [
    {
     "data": {
      "text/html": [
       "<div>\n",
       "<style scoped>\n",
       "    .dataframe tbody tr th:only-of-type {\n",
       "        vertical-align: middle;\n",
       "    }\n",
       "\n",
       "    .dataframe tbody tr th {\n",
       "        vertical-align: top;\n",
       "    }\n",
       "\n",
       "    .dataframe thead th {\n",
       "        text-align: right;\n",
       "    }\n",
       "</style>\n",
       "<table border=\"1\" class=\"dataframe\">\n",
       "  <thead>\n",
       "    <tr style=\"text-align: right;\">\n",
       "      <th></th>\n",
       "      <th>Empresas</th>\n",
       "    </tr>\n",
       "  </thead>\n",
       "  <tbody>\n",
       "    <tr>\n",
       "      <th>0</th>\n",
       "      <td>kpmg</td>\n",
       "    </tr>\n",
       "    <tr>\n",
       "      <th>1</th>\n",
       "      <td>ambev</td>\n",
       "    </tr>\n",
       "    <tr>\n",
       "      <th>2</th>\n",
       "      <td>claro</td>\n",
       "    </tr>\n",
       "    <tr>\n",
       "      <th>3</th>\n",
       "      <td>vivo</td>\n",
       "    </tr>\n",
       "    <tr>\n",
       "      <th>4</th>\n",
       "      <td>alibaba</td>\n",
       "    </tr>\n",
       "  </tbody>\n",
       "</table>\n",
       "</div>"
      ],
      "text/plain": [
       "  Empresas\n",
       "0     kpmg\n",
       "1    ambev\n",
       "2    claro\n",
       "3     vivo\n",
       "4  alibaba"
      ]
     },
     "execution_count": 2,
     "metadata": {},
     "output_type": "execute_result"
    }
   ],
   "source": [
    "from bs4 import BeautifulSoup\n",
    "import requests\n",
    "import pandas as pd\n",
    "\n",
    "lista=pd.read_csv('Base.csv')\n",
    "lista.head()"
   ]
  },
  {
   "cell_type": "code",
   "execution_count": 4,
   "metadata": {},
   "outputs": [],
   "source": [
    "lista_de_entidades=lista['Empresas']"
   ]
  },
  {
   "cell_type": "code",
   "execution_count": 5,
   "metadata": {},
   "outputs": [],
   "source": [
    "from unidecode import unidecode\n",
    "import time"
   ]
  },
  {
   "cell_type": "code",
   "execution_count": 6,
   "metadata": {},
   "outputs": [
    {
     "name": "stdout",
     "output_type": "stream",
     "text": [
      "12\n"
     ]
    }
   ],
   "source": [
    "import multiprocessing  as mp\n",
    "print(mp.cpu_count())\n"
   ]
  },
  {
   "cell_type": "code",
   "execution_count": 8,
   "metadata": {},
   "outputs": [],
   "source": [
    "lista_teste=lista_de_entidades[:8]"
   ]
  },
  {
   "cell_type": "code",
   "execution_count": 10,
   "metadata": {},
   "outputs": [],
   "source": [
    "import crawler_google_mp"
   ]
  },
  {
   "cell_type": "code",
   "execution_count": 11,
   "metadata": {},
   "outputs": [
    {
     "name": "stderr",
     "output_type": "stream",
     "text": [
      "C:\\Users\\99823827\\Anaconda3\\envs\\Testes\\lib\\site-packages\\urllib3\\connectionpool.py:1013: InsecureRequestWarning: Unverified HTTPS request is being made to host 'www.google.com'. Adding certificate verification is strongly advised. See: https://urllib3.readthedocs.io/en/latest/advanced-usage.html#ssl-warnings\n",
      "  warnings.warn(\n"
     ]
    },
    {
     "name": "stdout",
     "output_type": "stream",
     "text": [
      "<div class=\"BNeawe s3v9rd AP7Wnd\"><div><div class=\"MSiauf\"><div class=\"BNeawe s3v9rd AP7Wnd\">Caro Freguês, encontre tudo que você precisa e faça sua compra com segurança nas Casas Bahia. Compre em até 12x sem juros no cartão e ainda aproveite o ...</div></div><div><div class=\"MSiauf\"><div class=\"BNeawe s3v9rd AP7Wnd\"><span class=\"BNeawe\"><a href=\"/url?q=https://m.casasbahia.com.br/login&amp;sa=U&amp;ved=2ahUKEwidzKahksn2AhWy3jgGHRwXAmIQjBB6BAgBEAU&amp;usg=AOvVaw32TrGHh-LXJxcsxxQwfBp9\"><span class=\"XLloXe AP7Wnd\">Entrar</span></a></span></div></div><div class=\"MSiauf\"><div class=\"BNeawe s3v9rd AP7Wnd\"><span class=\"BNeawe\"><a href=\"/url?q=https://www.casasbahia.com.br/c/%3Ffiltro%3Dl23019&amp;sa=U&amp;ved=2ahUKEwidzKahksn2AhWy3jgGHRwXAmIQjBB6BAgBEAc&amp;usg=AOvVaw0DNZyq0Tt5Kvl2vNXr4Gy-\"><span class=\"XLloXe AP7Wnd\">Compre por toda loja</span></a></span></div></div><div class=\"MSiauf\"><div class=\"BNeawe s3v9rd AP7Wnd\"><span class=\"BNeawe\"><a href=\"/url?q=https://www.casasbahia.com.br/c/%3Ffiltro%3Dl11242&amp;sa=U&amp;ved=2ahUKEwidzKahksn2AhWy3jgGHRwXAmIQjBB6BAgBEAk&amp;usg=AOvVaw2mHPEMSXTPaQouh3wWuQsT\"><span class=\"XLloXe AP7Wnd\">Brinquedos</span></a></span></div></div><div class=\"MSiauf\"><div class=\"BNeawe s3v9rd AP7Wnd\"><span class=\"BNeawe\"><a href=\"/url?q=https://www.casasbahia.com.br/c/kary/%3Ffiltro%3Dm168826&amp;sa=U&amp;ved=2ahUKEwidzKahksn2AhWy3jgGHRwXAmIQjBB6BAgBEAs&amp;usg=AOvVaw2-R1ulBOtBVpfKmEL2kWM-\"><span class=\"XLloXe AP7Wnd\">KARY</span></a></span></div></div><div class=\"MSiauf\"><div class=\"BNeawe s3v9rd AP7Wnd\"><span class=\"BNeawe\"><a href=\"/url?q=https://www.casasbahia.com.br/c/inobram/%3Ffiltro%3Dm181993&amp;sa=U&amp;ved=2ahUKEwidzKahksn2AhWy3jgGHRwXAmIQjBB6BAgBEA0&amp;usg=AOvVaw0oz01YV7guNlWVJaFXetK5\"><span class=\"XLloXe AP7Wnd\">Móveis</span></a></span></div></div><div><div class=\"BNeawe s3v9rd AP7Wnd\"><span class=\"BNeawe\"><a href=\"/url?q=https://casasbahia.com.br/%3Ffiltro%3Dc484_c485_c1143_m164281&amp;sa=U&amp;ved=2ahUKEwidzKahksn2AhWy3jgGHRwXAmIQjBB6BAgBEA8&amp;usg=AOvVaw01W3Ho9k2sTMmFqOKEJMUq\"><span class=\"XLloXe AP7Wnd\">Comércio Exterior</span></a></span></div></div></div></div></div>\n",
      "<div class=\"BNeawe s3v9rd AP7Wnd\">Caro Freguês, encontre tudo que você precisa e faça sua compra com segurança nas Casas Bahia. Compre em até 12x sem juros no cartão e ainda aproveite o ...</div>\n",
      "<div class=\"BNeawe s3v9rd AP7Wnd\"><span class=\"BNeawe\"><a href=\"/url?q=https://m.casasbahia.com.br/login&amp;sa=U&amp;ved=2ahUKEwidzKahksn2AhWy3jgGHRwXAmIQjBB6BAgBEAU&amp;usg=AOvVaw32TrGHh-LXJxcsxxQwfBp9\"><span class=\"XLloXe AP7Wnd\">Entrar</span></a></span></div>\n",
      "<div class=\"BNeawe s3v9rd AP7Wnd\"><span class=\"BNeawe\"><a href=\"/url?q=https://www.casasbahia.com.br/c/%3Ffiltro%3Dl23019&amp;sa=U&amp;ved=2ahUKEwidzKahksn2AhWy3jgGHRwXAmIQjBB6BAgBEAc&amp;usg=AOvVaw0DNZyq0Tt5Kvl2vNXr4Gy-\"><span class=\"XLloXe AP7Wnd\">Compre por toda loja</span></a></span></div>\n",
      "<div class=\"BNeawe s3v9rd AP7Wnd\"><span class=\"BNeawe\"><a href=\"/url?q=https://www.casasbahia.com.br/c/%3Ffiltro%3Dl11242&amp;sa=U&amp;ved=2ahUKEwidzKahksn2AhWy3jgGHRwXAmIQjBB6BAgBEAk&amp;usg=AOvVaw2mHPEMSXTPaQouh3wWuQsT\"><span class=\"XLloXe AP7Wnd\">Brinquedos</span></a></span></div>\n",
      "<div class=\"BNeawe s3v9rd AP7Wnd\"><span class=\"BNeawe\"><a href=\"/url?q=https://www.casasbahia.com.br/c/kary/%3Ffiltro%3Dm168826&amp;sa=U&amp;ved=2ahUKEwidzKahksn2AhWy3jgGHRwXAmIQjBB6BAgBEAs&amp;usg=AOvVaw2-R1ulBOtBVpfKmEL2kWM-\"><span class=\"XLloXe AP7Wnd\">KARY</span></a></span></div>\n",
      "<div class=\"BNeawe s3v9rd AP7Wnd\"><span class=\"BNeawe\"><a href=\"/url?q=https://www.casasbahia.com.br/c/inobram/%3Ffiltro%3Dm181993&amp;sa=U&amp;ved=2ahUKEwidzKahksn2AhWy3jgGHRwXAmIQjBB6BAgBEA0&amp;usg=AOvVaw0oz01YV7guNlWVJaFXetK5\"><span class=\"XLloXe AP7Wnd\">Móveis</span></a></span></div>\n",
      "<div class=\"BNeawe s3v9rd AP7Wnd\"><span class=\"BNeawe\"><a href=\"/url?q=https://casasbahia.com.br/%3Ffiltro%3Dc484_c485_c1143_m164281&amp;sa=U&amp;ved=2ahUKEwidzKahksn2AhWy3jgGHRwXAmIQjBB6BAgBEA8&amp;usg=AOvVaw01W3Ho9k2sTMmFqOKEJMUq\"><span class=\"XLloXe AP7Wnd\">Comércio Exterior</span></a></span></div>\n",
      "<div class=\"BNeawe s3v9rd AP7Wnd\"><div><div class=\"BNeawe s3v9rd AP7Wnd\">Casas Bahia é uma popular rede de varejo de móveis e eletrodomésticos do Brasil. Foi fundada em 1952, em São Caetano do Sul, São Paulo, onde se localiza a matriz, pelo imigrante polonês Samuel Klein, que ... <span class=\"BNeawe\"><a href=\"/url?q=https://pt.wikipedia.org/wiki/Casas_Bahia&amp;sa=U&amp;ved=2ahUKEwidzKahksn2AhWy3jgGHRwXAmIQmhN6BAgGEAc&amp;usg=AOvVaw3KVTK-4cEqh-Xvy17ymUG2\"><span class=\"XLloXe AP7Wnd\">Wikipédia</span></a></span></div></div></div>\n",
      "<div class=\"BNeawe s3v9rd AP7Wnd\">Casas Bahia é uma popular rede de varejo de móveis e eletrodomésticos do Brasil. Foi fundada em 1952, em São Caetano do Sul, São Paulo, onde se localiza a matriz, pelo imigrante polonês Samuel Klein, que ... <span class=\"BNeawe\"><a href=\"/url?q=https://pt.wikipedia.org/wiki/Casas_Bahia&amp;sa=U&amp;ved=2ahUKEwidzKahksn2AhWy3jgGHRwXAmIQmhN6BAgGEAc&amp;usg=AOvVaw3KVTK-4cEqh-Xvy17ymUG2\"><span class=\"XLloXe AP7Wnd\">Wikipédia</span></a></span></div>\n",
      "<div class=\"BNeawe s3v9rd AP7Wnd\"><span><span class=\"BNeawe s3v9rd AP7Wnd\">Fundador</span></span>: <span><span class=\"BNeawe tAd8D AP7Wnd\"><span class=\"BNeawe\"><a href=\"/search?ie=UTF-8&amp;q=Samuel+Klein&amp;stick=H4sIAAAAAAAAAOPgE-LSz9U3MDIzTM-uUoKwzSuKCuK11LOTrfSTSosz81KLi-GM-PyC1KLEksz8PKu0_NK8lNSiRaw8wYm5pak5Ct45qZl5AENJuGFSAAAA&amp;sa=X&amp;ved=2ahUKEwidzKahksn2AhWy3jgGHRwXAmIQmxN6BAgGEAk\"><span class=\"XLloXe AP7Wnd\">Samuel Klein</span></a></span></span></span></div>\n",
      "<span class=\"BNeawe s3v9rd AP7Wnd\">Fundador</span>\n",
      "<div class=\"BNeawe s3v9rd AP7Wnd\"><span><span class=\"BNeawe s3v9rd AP7Wnd\">Fundação</span></span>: <span><span class=\"BNeawe tAd8D AP7Wnd\">1952, <span class=\"BNeawe\"><a href=\"/search?ie=UTF-8&amp;q=S%C3%A3o+Caetano+do+Sul&amp;stick=H4sIAAAAAAAAAOPgE-LSz9U3MDIzTM-uUuIEsU3iTcuStVSzk63084vSE_MyqxJLMvPzUDhWafmleSmpKYtYhYMPL85XcE5MLUnMy1dIyVcILs0BACOeC2FWAAAA&amp;sa=X&amp;ved=2ahUKEwidzKahksn2AhWy3jgGHRwXAmIQmxN6BAgGEAs\"><span class=\"XLloXe AP7Wnd\">São Caetano do Sul, São Paulo</span></a></span></span></span></div>\n",
      "<span class=\"BNeawe s3v9rd AP7Wnd\">Fundação</span>\n",
      "<div class=\"BNeawe s3v9rd AP7Wnd\"><span><span class=\"BNeawe s3v9rd AP7Wnd\">CEO</span></span>: <span><span class=\"BNeawe tAd8D AP7Wnd\"><span class=\"BNeawe\"><a href=\"/search?ie=UTF-8&amp;q=Michael+Klein&amp;stick=H4sIAAAAAAAAAOPgE-LSz9U3MDIzTM-uUgKzy4qzjKrKtRSzk63084vSE_MyqxJLMvPzUDhWyan5i1h5fTOTMxJTcxS8c1Iz8wAMxTaBTQAAAA&amp;sa=X&amp;ved=2ahUKEwidzKahksn2AhWy3jgGHRwXAmIQmxN6BAgGEA0\"><span class=\"XLloXe AP7Wnd\">Michael Klein</span></a></span> (2009–)</span></span></div>\n",
      "<span class=\"BNeawe s3v9rd AP7Wnd\">CEO</span>\n",
      "<div class=\"BNeawe s3v9rd AP7Wnd\"><span><span class=\"BNeawe s3v9rd AP7Wnd\">Sede</span></span>: <span><span class=\"BNeawe tAd8D AP7Wnd\"><span class=\"BNeawe\"><a href=\"/search?ie=UTF-8&amp;q=S%C3%A3o+Caetano+do+Sul&amp;stick=H4sIAAAAAAAAAOPgE-LSz9U3MDIzTM-uUuIEsU3iTcuStbSyk63084vSE_MyqxJLMvPzUDhWGamJKYWliUUlqUXFi1iFgw8vzldwTkwtSczLV0jJVwguzQEAPgzoOVsAAAA&amp;sa=X&amp;ved=2ahUKEwidzKahksn2AhWy3jgGHRwXAmIQmxN6BAgGEA8\"><span class=\"XLloXe AP7Wnd\">São Caetano do Sul, São Paulo</span></a></span></span></span></div>\n",
      "<span class=\"BNeawe s3v9rd AP7Wnd\">Sede</span>\n",
      "<div class=\"BNeawe s3v9rd AP7Wnd\"><span><span class=\"BNeawe s3v9rd AP7Wnd\">Número de funcionários</span></span>: <span><span class=\"BNeawe tAd8D AP7Wnd\">57.500 (2014)</span></span></div>\n",
      "<span class=\"BNeawe s3v9rd AP7Wnd\">Número de funcionários</span>\n",
      "<div class=\"BNeawe s3v9rd AP7Wnd\"><span><span class=\"BNeawe s3v9rd AP7Wnd\">Número de locais</span></span>: <span><span class=\"BNeawe tAd8D AP7Wnd\">857</span></span></div>\n",
      "<span class=\"BNeawe s3v9rd AP7Wnd\">Número de locais</span>\n",
      "<div class=\"BNeawe s3v9rd AP7Wnd\"><span><span class=\"BNeawe s3v9rd AP7Wnd\">Organizações matrizes</span></span>: <span><span class=\"BNeawe tAd8D AP7Wnd\"><span class=\"BNeawe\"><a href=\"/search?ie=UTF-8&amp;q=Via+Varejo&amp;stick=H4sIAAAAAAAAAOPgE-LSz9U3MDIzTM-uUgKz00vKLIzMtAwyyq30k_NzclKTSzLz8_Tzi9IT8zKrEkGcYquCxKLUvBIFZMFFrFxhmYkKYUCZrHwA6LTGYFkAAAA&amp;sa=X&amp;ved=2ahUKEwidzKahksn2AhWy3jgGHRwXAmIQmxN6BAgGEBM\"><span class=\"XLloXe AP7Wnd\">Via</span></a></span> e <span class=\"BNeawe\"><a href=\"/search?ie=UTF-8&amp;q=Atento+Brasil&amp;stick=H4sIAAAAAAAAAOPgE-LSz9U3MDIzTM-uUuLRT9c3NCzLMrBMqUjTMsgot9JPzs_JSU0uyczP088vSk_My6xKBHGKrQoSi1LzShSQBRex8jqWAAXzFZyKEoszcwBURSAWXgAAAA&amp;sa=X&amp;ved=2ahUKEwidzKahksn2AhWy3jgGHRwXAmIQmxN6BAgGEBQ\"><span class=\"XLloXe AP7Wnd\">Atento Brasil</span></a></span></span></span></div>\n",
      "<span class=\"BNeawe s3v9rd AP7Wnd\">Organizações matrizes</span>\n",
      "<div class=\"BNeawe s3v9rd AP7Wnd\"><span class=\"UMOHqf EDgFbc\">Semana do Consumidor: Casas Bahia dá até 70% de desconto</span></div>\n",
      "<div class=\"BNeawe s3v9rd AP7Wnd\"><span class=\"UMOHqf EDgFbc\">Ex-funcionário das Casas Bahia receberá 100% de pensão por invalidez</span></div>\n",
      "<div class=\"BNeawe s3v9rd AP7Wnd\"><span class=\"UMOHqf EDgFbc\">Livelo oferece 5 pontos por real gasto na Casas Bahia</span></div>\n",
      "<div class=\"BNeawe s3v9rd AP7Wnd\"><span class=\"UMOHqf EDgFbc\">Esfera, Extra, Casas Bahia e Ponto oferecem 7% de cashback ou 7 pontos</span></div>\n",
      "<div class=\"BNeawe s3v9rd AP7Wnd\"><span class=\"UMOHqf EDgFbc\">Aproveite os descontos da Semana do Consumidor na Casas Bahia</span></div>\n",
      "<div class=\"BNeawe s3v9rd AP7Wnd\"><div><div class=\"MSiauf\"><div class=\"BNeawe s3v9rd AP7Wnd\"><span class=\"xUrNXd UMOHqf\">Classificação</span> <span class=\"xUrNXd UMOHqf tP9Zud\"> <span aria-hidden=\"true\" class=\"oqSTJd\">4,6</span> <div aria-label=\"Classificado como 4.5 entre 5\" class=\"Hk2yDb KsR1A\" role=\"img\"><span style=\"width:63px\"></span></div> <span>(915.525)</span> </span> <span class=\"xUrNXd UMOHqf\"> · </span><span class=\"xUrNXd UMOHqf\">Gratuito</span> <span class=\"xUrNXd UMOHqf\"> · </span><span class=\"xUrNXd UMOHqf\">Android</span></div></div><div><div class=\"BNeawe s3v9rd AP7Wnd\">Semana do Consumidor com Preços mais baixos que na Black Friday Até 70% de Desconto* no APP com Milhares de produtos com preços exclusivos e Frete Grátis só ...</div></div></div></div>\n",
      "<div class=\"BNeawe s3v9rd AP7Wnd\"><span class=\"xUrNXd UMOHqf\">Classificação</span> <span class=\"xUrNXd UMOHqf tP9Zud\"> <span aria-hidden=\"true\" class=\"oqSTJd\">4,6</span> <div aria-label=\"Classificado como 4.5 entre 5\" class=\"Hk2yDb KsR1A\" role=\"img\"><span style=\"width:63px\"></span></div> <span>(915.525)</span> </span> <span class=\"xUrNXd UMOHqf\"> · </span><span class=\"xUrNXd UMOHqf\">Gratuito</span> <span class=\"xUrNXd UMOHqf\"> · </span><span class=\"xUrNXd UMOHqf\">Android</span></div>\n",
      "<div class=\"BNeawe s3v9rd AP7Wnd\">Semana do Consumidor com Preços mais baixos que na Black Friday Até 70% de Desconto* no APP com Milhares de produtos com preços exclusivos e Frete Grátis só ...</div>\n",
      "<div class=\"BNeawe s3v9rd AP7Wnd\"><div><div class=\"MSiauf\"><div class=\"BNeawe s3v9rd AP7Wnd\"><span class=\"xUrNXd UMOHqf\">Classificação</span> <span class=\"xUrNXd UMOHqf tP9Zud\"> <span aria-hidden=\"true\" class=\"oqSTJd\">2,8</span> <div aria-label=\"Classificado como 3.0 entre 5\" class=\"Hk2yDb KsR1A\" role=\"img\"><span style=\"width:42px\"></span></div> <span>(1.119)</span> </span></div></div><div><div class=\"BNeawe s3v9rd AP7Wnd\">Casas Bahia. 5010553 likes · 190592 talking about this · 21209 were here. Promoções exclusivas, lançamentos e novidades! Inbox de seg à sex durante o...</div></div></div></div>\n",
      "<div class=\"BNeawe s3v9rd AP7Wnd\"><span class=\"xUrNXd UMOHqf\">Classificação</span> <span class=\"xUrNXd UMOHqf tP9Zud\"> <span aria-hidden=\"true\" class=\"oqSTJd\">2,8</span> <div aria-label=\"Classificado como 3.0 entre 5\" class=\"Hk2yDb KsR1A\" role=\"img\"><span style=\"width:42px\"></span></div> <span>(1.119)</span> </span></div>\n",
      "<div class=\"BNeawe s3v9rd AP7Wnd\">Casas Bahia. 5010553 likes · 190592 talking about this · 21209 were here. Promoções exclusivas, lançamentos e novidades! Inbox de seg à sex durante o...</div>\n",
      "<div class=\"BNeawe s3v9rd AP7Wnd\"><div><div><div class=\"BNeawe s3v9rd AP7Wnd\">3.1m Followers, 147 Following, 1626 Posts - See Instagram photos and videos from Casas Bahia (@casasbahia)</div></div></div></div>\n",
      "<div class=\"BNeawe s3v9rd AP7Wnd\">3.1m Followers, 147 Following, 1626 Posts - See Instagram photos and videos from Casas Bahia (@casasbahia)</div>\n",
      "<div class=\"BNeawe s3v9rd AP7Wnd\"><div><div><div class=\"BNeawe s3v9rd AP7Wnd\">Na Casas Bahia suas Compras valem Pontos Livelo. Ganhe Pontos, Compre e Pontue com nossa Parceira. Acesse e confira as vantagens e promoções!</div></div></div></div>\n",
      "<div class=\"BNeawe s3v9rd AP7Wnd\">Na Casas Bahia suas Compras valem Pontos Livelo. Ganhe Pontos, Compre e Pontue com nossa Parceira. Acesse e confira as vantagens e promoções!</div>\n"
     ]
    }
   ],
   "source": [
    "df=crawler_google_mp.get_google_KP_info(\"casas bahia\")"
   ]
  },
  {
   "cell_type": "code",
   "execution_count": 13,
   "metadata": {},
   "outputs": [
    {
     "data": {
      "text/html": [
       "<div>\n",
       "<style scoped>\n",
       "    .dataframe tbody tr th:only-of-type {\n",
       "        vertical-align: middle;\n",
       "    }\n",
       "\n",
       "    .dataframe tbody tr th {\n",
       "        vertical-align: top;\n",
       "    }\n",
       "\n",
       "    .dataframe thead th {\n",
       "        text-align: right;\n",
       "    }\n",
       "</style>\n",
       "<table border=\"1\" class=\"dataframe\">\n",
       "  <thead>\n",
       "    <tr style=\"text-align: right;\">\n",
       "      <th></th>\n",
       "      <th>Entity Description</th>\n",
       "      <th>Erro</th>\n",
       "      <th>Fundador</th>\n",
       "      <th>Sede</th>\n",
       "    </tr>\n",
       "  </thead>\n",
       "  <tbody>\n",
       "    <tr>\n",
       "      <th>0</th>\n",
       "      <td>casas bahia</td>\n",
       "      <td>1.0</td>\n",
       "      <td>Samuel Klein</td>\n",
       "      <td>São Caetano do Sul, São Paulo</td>\n",
       "    </tr>\n",
       "  </tbody>\n",
       "</table>\n",
       "</div>"
      ],
      "text/plain": [
       "  Entity Description  Erro      Fundador                           Sede\n",
       "0        casas bahia   1.0  Samuel Klein  São Caetano do Sul, São Paulo"
      ]
     },
     "execution_count": 13,
     "metadata": {},
     "output_type": "execute_result"
    }
   ],
   "source": [
    "df"
   ]
  },
  {
   "cell_type": "code",
   "execution_count": 14,
   "metadata": {},
   "outputs": [
    {
     "data": {
      "text/html": [
       "<div>\n",
       "<style scoped>\n",
       "    .dataframe tbody tr th:only-of-type {\n",
       "        vertical-align: middle;\n",
       "    }\n",
       "\n",
       "    .dataframe tbody tr th {\n",
       "        vertical-align: top;\n",
       "    }\n",
       "\n",
       "    .dataframe thead th {\n",
       "        text-align: right;\n",
       "    }\n",
       "</style>\n",
       "<table border=\"1\" class=\"dataframe\">\n",
       "  <thead>\n",
       "    <tr style=\"text-align: right;\">\n",
       "      <th></th>\n",
       "      <th>Entity Description</th>\n",
       "      <th>Erro</th>\n",
       "      <th>Fundador</th>\n",
       "      <th>Sede</th>\n",
       "    </tr>\n",
       "  </thead>\n",
       "  <tbody>\n",
       "    <tr>\n",
       "      <th>0</th>\n",
       "      <td>casas bahia</td>\n",
       "      <td>1.0</td>\n",
       "      <td>Samuel Klein</td>\n",
       "      <td>São Caetano do Sul, São Paulo</td>\n",
       "    </tr>\n",
       "  </tbody>\n",
       "</table>\n",
       "</div>"
      ],
      "text/plain": [
       "  Entity Description  Erro      Fundador                           Sede\n",
       "0        casas bahia   1.0  Samuel Klein  São Caetano do Sul, São Paulo"
      ]
     },
     "execution_count": 14,
     "metadata": {},
     "output_type": "execute_result"
    }
   ],
   "source": [
    "new_df=pd.DataFrame()\n",
    "new_df=pd.concat([new_df,df],ignore_index=True)\n",
    "new_df.head(100)"
   ]
  }
 ],
 "metadata": {
  "interpreter": {
   "hash": "0709dc35681f70d8875d817e52718e20f9f2faf7ae772aadcaf62a0917d307db"
  },
  "kernelspec": {
   "display_name": "firstEnv",
   "language": "python",
   "name": "python3"
  },
  "language_info": {
   "codemirror_mode": {
    "name": "ipython",
    "version": 3
   },
   "file_extension": ".py",
   "mimetype": "text/x-python",
   "name": "python",
   "nbconvert_exporter": "python",
   "pygments_lexer": "ipython3",
   "version": "3.9.4"
  }
 },
 "nbformat": 4,
 "nbformat_minor": 2
}
